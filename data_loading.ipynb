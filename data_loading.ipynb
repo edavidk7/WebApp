{
 "cells": [
  {
   "cell_type": "code",
   "execution_count": 1,
   "metadata": {},
   "outputs": [],
   "source": [
    "import pandas as pd"
   ]
  },
  {
   "cell_type": "code",
   "execution_count": 2,
   "metadata": {},
   "outputs": [
    {
     "name": "stdout",
     "output_type": "stream",
     "text": [
      "37\n",
      "[('ACTIVITY_DESCRIPTION',), ('ACTIVITY_DESC_TAG_LINK',), ('ALARM',), ('BANGLE_JSACTIVITY_SAMPLE',), ('BASE_ACTIVITY_SUMMARY',), ('BATTERY_LEVEL',), ('CALENDAR_SYNC_STATE',), ('CASIO_GBX100_ACTIVITY_SAMPLE',), ('DEVICE',), ('DEVICE_ATTRIBUTES',), ('HPLUS_HEALTH_ACTIVITY_OVERLAY',), ('HPLUS_HEALTH_ACTIVITY_SAMPLE',), ('HYBRID_HRACTIVITY_SAMPLE',), ('ID115_ACTIVITY_SAMPLE',), ('JYOU_ACTIVITY_SAMPLE',), ('LEFUN_ACTIVITY_SAMPLE',), ('LEFUN_BIOMETRIC_SAMPLE',), ('LEFUN_SLEEP_SAMPLE',), ('MAKIBES_HR3_ACTIVITY_SAMPLE',), ('MI_BAND_ACTIVITY_SAMPLE',), ('NO1_F1_ACTIVITY_SAMPLE',), ('NOTIFICATION_FILTER',), ('NOTIFICATION_FILTER_ENTRY',), ('PEBBLE_HEALTH_ACTIVITY_OVERLAY',), ('PEBBLE_HEALTH_ACTIVITY_SAMPLE',), ('PEBBLE_MISFIT_SAMPLE',), ('PEBBLE_MORPHEUZ_SAMPLE',), ('SONY_SWR12_SAMPLE',), ('TAG',), ('TLW64_ACTIVITY_SAMPLE',), ('USER',), ('USER_ATTRIBUTES',), ('WATCH_XPLUS_ACTIVITY_SAMPLE',), ('WATCH_XPLUS_HEALTH_ACTIVITY_OVERLAY',), ('XWATCH_ACTIVITY_SAMPLE',), ('ZE_TIME_ACTIVITY_SAMPLE',), ('android_metadata',)]\n"
     ]
    }
   ],
   "source": [
    "import sqlite3 as sq\n",
    "\n",
    "con = sq.connect(\"data/Gadgetbridge.sqlite\")\n",
    "\n",
    "things = con.execute(\"\"\"SELECT name FROM sqlite_schema \n",
    "WHERE type IN ('table','view') \n",
    "AND name NOT LIKE 'sqlite_%'\n",
    "ORDER BY 1;\"\"\").fetchall()\n",
    "print(len(things))\n",
    "print(things)"
   ]
  },
  {
   "cell_type": "code",
   "execution_count": 3,
   "metadata": {},
   "outputs": [
    {
     "data": {
      "text/html": [
       "<div>\n",
       "<style scoped>\n",
       "    .dataframe tbody tr th:only-of-type {\n",
       "        vertical-align: middle;\n",
       "    }\n",
       "\n",
       "    .dataframe tbody tr th {\n",
       "        vertical-align: top;\n",
       "    }\n",
       "\n",
       "    .dataframe thead th {\n",
       "        text-align: right;\n",
       "    }\n",
       "</style>\n",
       "<table border=\"1\" class=\"dataframe\">\n",
       "  <thead>\n",
       "    <tr style=\"text-align: right;\">\n",
       "      <th></th>\n",
       "      <th>TIMESTAMP</th>\n",
       "      <th>DEVICE_ID</th>\n",
       "      <th>USER_ID</th>\n",
       "      <th>RAW_INTENSITY</th>\n",
       "      <th>STEPS</th>\n",
       "      <th>RAW_KIND</th>\n",
       "      <th>HEART_RATE</th>\n",
       "    </tr>\n",
       "  </thead>\n",
       "  <tbody>\n",
       "    <tr>\n",
       "      <th>0</th>\n",
       "      <td>1616087340</td>\n",
       "      <td>1</td>\n",
       "      <td>1</td>\n",
       "      <td>29</td>\n",
       "      <td>0</td>\n",
       "      <td>112</td>\n",
       "      <td>255</td>\n",
       "    </tr>\n",
       "    <tr>\n",
       "      <th>1</th>\n",
       "      <td>1616087400</td>\n",
       "      <td>1</td>\n",
       "      <td>1</td>\n",
       "      <td>3</td>\n",
       "      <td>0</td>\n",
       "      <td>112</td>\n",
       "      <td>255</td>\n",
       "    </tr>\n",
       "    <tr>\n",
       "      <th>2</th>\n",
       "      <td>1616087400</td>\n",
       "      <td>2</td>\n",
       "      <td>1</td>\n",
       "      <td>23</td>\n",
       "      <td>0</td>\n",
       "      <td>112</td>\n",
       "      <td>255</td>\n",
       "    </tr>\n",
       "    <tr>\n",
       "      <th>3</th>\n",
       "      <td>1616087460</td>\n",
       "      <td>1</td>\n",
       "      <td>1</td>\n",
       "      <td>0</td>\n",
       "      <td>0</td>\n",
       "      <td>115</td>\n",
       "      <td>255</td>\n",
       "    </tr>\n",
       "    <tr>\n",
       "      <th>4</th>\n",
       "      <td>1616087460</td>\n",
       "      <td>2</td>\n",
       "      <td>1</td>\n",
       "      <td>0</td>\n",
       "      <td>0</td>\n",
       "      <td>80</td>\n",
       "      <td>255</td>\n",
       "    </tr>\n",
       "  </tbody>\n",
       "</table>\n",
       "</div>"
      ],
      "text/plain": [
       "    TIMESTAMP  DEVICE_ID  USER_ID  RAW_INTENSITY  STEPS  RAW_KIND  HEART_RATE\n",
       "0  1616087340          1        1             29      0       112         255\n",
       "1  1616087400          1        1              3      0       112         255\n",
       "2  1616087400          2        1             23      0       112         255\n",
       "3  1616087460          1        1              0      0       115         255\n",
       "4  1616087460          2        1              0      0        80         255"
      ]
     },
     "execution_count": 3,
     "metadata": {},
     "output_type": "execute_result"
    }
   ],
   "source": [
    "cursor = con.execute(\"\"\"\n",
    "SELECT * FROM MI_BAND_ACTIVITY_SAMPLE;\n",
    "\"\"\")\n",
    "column_names = [description[0] for description in cursor.description]\n",
    "data = cursor.fetchall()\n",
    "df = pd.DataFrame.from_records(data, columns=column_names)\n",
    "df.head()\n"
   ]
  },
  {
   "cell_type": "code",
   "execution_count": 4,
   "metadata": {},
   "outputs": [],
   "source": [
    "df.to_csv(\"raw_band_data.csv\")"
   ]
  },
  {
   "cell_type": "code",
   "execution_count": null,
   "metadata": {},
   "outputs": [],
   "source": [
    "df.to_feather(\"raw_band_data_feather.feather\")"
   ]
  }
 ],
 "metadata": {
  "interpreter": {
   "hash": "3cf297a68a4c67f6114599745925a8e164631fc42890b5054dc1add673016808"
  },
  "kernelspec": {
   "display_name": "Python 3.9.13 ('.venv': venv)",
   "language": "python",
   "name": "python3"
  },
  "language_info": {
   "codemirror_mode": {
    "name": "ipython",
    "version": 3
   },
   "file_extension": ".py",
   "mimetype": "text/x-python",
   "name": "python",
   "nbconvert_exporter": "python",
   "pygments_lexer": "ipython3",
   "version": "3.9.13"
  },
  "orig_nbformat": 4
 },
 "nbformat": 4,
 "nbformat_minor": 2
}
