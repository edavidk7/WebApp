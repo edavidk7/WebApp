{
 "cells": [
  {
   "cell_type": "code",
   "execution_count": 55,
   "metadata": {},
   "outputs": [],
   "source": [
    "import pandas as pd\n",
    "from datetime import datetime, timezone, timedelta\n",
    "import plotly\n"
   ]
  },
  {
   "cell_type": "code",
   "execution_count": 56,
   "metadata": {},
   "outputs": [],
   "source": [
    "df = pd.read_feather(\"data/dfs/complete_data.feather\")\n",
    "screening_start_1 = pd.to_datetime(\"2021-05-10 01:00\")\n",
    "screening_end_1 = pd.to_datetime(\"2021-05-16 01:00\")\n",
    "screening_start_2 = pd.to_datetime(\"2021-05-17 01:00\")\n",
    "screening_end_2 = pd.to_datetime(\"2021-05-23 01:00\")\n",
    "alias_col = df[\"TIMESTAMP\"]\n",
    "filtering_alias = alias_col.map(lambda x: (x > screening_start_1 and x < screening_end_1) or (\n",
    "    x > screening_start_2 and x < screening_end_2))\n",
    "df = df[filtering_alias]\n",
    "# df.to_feather()\n"
   ]
  },
  {
   "cell_type": "code",
   "execution_count": 67,
   "metadata": {},
   "outputs": [
    {
     "ename": "AttributeError",
     "evalue": "'Timestamp' object has no attribute 'dt'",
     "output_type": "error",
     "traceback": [
      "\u001b[1;31m---------------------------------------------------------------------------\u001b[0m",
      "\u001b[1;31mAttributeError\u001b[0m                            Traceback (most recent call last)",
      "\u001b[1;32mc:\\Users\\Marek\\Documents\\dev\\WebApp\\data_selection.ipynb Cell 3'\u001b[0m in \u001b[0;36m<cell line: 2>\u001b[1;34m()\u001b[0m\n\u001b[0;32m      <a href='vscode-notebook-cell:/c%3A/Users/Marek/Documents/dev/WebApp/data_selection.ipynb#ch0000002?line=0'>1</a>\u001b[0m new_df \u001b[39m=\u001b[39m df\u001b[39m.\u001b[39mcopy()\n\u001b[1;32m----> <a href='vscode-notebook-cell:/c%3A/Users/Marek/Documents/dev/WebApp/data_selection.ipynb#ch0000002?line=1'>2</a>\u001b[0m new_df[\u001b[39m\"\u001b[39m\u001b[39mDAY\u001b[39m\u001b[39m\"\u001b[39m] \u001b[39m=\u001b[39m [x\u001b[39m.\u001b[39mtz_localize(\u001b[39m\"\u001b[39m\u001b[39mCET\u001b[39m\u001b[39m\"\u001b[39m)\u001b[39m.\u001b[39mdt\u001b[39m.\u001b[39mday_name \u001b[39mfor\u001b[39;00m x \u001b[39min\u001b[39;00m pd\u001b[39m.\u001b[39mto_datetime(new_df[\u001b[39m\"\u001b[39m\u001b[39mTIMESTAMP\u001b[39m\u001b[39m\"\u001b[39m], unit\u001b[39m=\u001b[39m\u001b[39m\"\u001b[39m\u001b[39ms\u001b[39m\u001b[39m\"\u001b[39m)]\n\u001b[0;32m      <a href='vscode-notebook-cell:/c%3A/Users/Marek/Documents/dev/WebApp/data_selection.ipynb#ch0000002?line=2'>3</a>\u001b[0m thursday_only \u001b[39m=\u001b[39m new_df[new_df[\u001b[39m\"\u001b[39m\u001b[39mDAY\u001b[39m\u001b[39m\"\u001b[39m] \u001b[39m==\u001b[39m \u001b[39m\"\u001b[39m\u001b[39mThursday\u001b[39m\u001b[39m\"\u001b[39m]\n\u001b[0;32m      <a href='vscode-notebook-cell:/c%3A/Users/Marek/Documents/dev/WebApp/data_selection.ipynb#ch0000002?line=3'>4</a>\u001b[0m data_band_19 \u001b[39m=\u001b[39m thursday_only[thursday_only[\u001b[39m\"\u001b[39m\u001b[39mALIAS\u001b[39m\u001b[39m\"\u001b[39m] \u001b[39m==\u001b[39m \u001b[39m\"\u001b[39m\u001b[39mBand 23\u001b[39m\u001b[39m\"\u001b[39m]\n",
      "\u001b[1;32mc:\\Users\\Marek\\Documents\\dev\\WebApp\\data_selection.ipynb Cell 3'\u001b[0m in \u001b[0;36m<listcomp>\u001b[1;34m(.0)\u001b[0m\n\u001b[0;32m      <a href='vscode-notebook-cell:/c%3A/Users/Marek/Documents/dev/WebApp/data_selection.ipynb#ch0000002?line=0'>1</a>\u001b[0m new_df \u001b[39m=\u001b[39m df\u001b[39m.\u001b[39mcopy()\n\u001b[1;32m----> <a href='vscode-notebook-cell:/c%3A/Users/Marek/Documents/dev/WebApp/data_selection.ipynb#ch0000002?line=1'>2</a>\u001b[0m new_df[\u001b[39m\"\u001b[39m\u001b[39mDAY\u001b[39m\u001b[39m\"\u001b[39m] \u001b[39m=\u001b[39m [x\u001b[39m.\u001b[39;49mtz_localize(\u001b[39m\"\u001b[39;49m\u001b[39mCET\u001b[39;49m\u001b[39m\"\u001b[39;49m)\u001b[39m.\u001b[39;49mdt\u001b[39m.\u001b[39mday_name \u001b[39mfor\u001b[39;00m x \u001b[39min\u001b[39;00m pd\u001b[39m.\u001b[39mto_datetime(new_df[\u001b[39m\"\u001b[39m\u001b[39mTIMESTAMP\u001b[39m\u001b[39m\"\u001b[39m], unit\u001b[39m=\u001b[39m\u001b[39m\"\u001b[39m\u001b[39ms\u001b[39m\u001b[39m\"\u001b[39m)]\n\u001b[0;32m      <a href='vscode-notebook-cell:/c%3A/Users/Marek/Documents/dev/WebApp/data_selection.ipynb#ch0000002?line=2'>3</a>\u001b[0m thursday_only \u001b[39m=\u001b[39m new_df[new_df[\u001b[39m\"\u001b[39m\u001b[39mDAY\u001b[39m\u001b[39m\"\u001b[39m] \u001b[39m==\u001b[39m \u001b[39m\"\u001b[39m\u001b[39mThursday\u001b[39m\u001b[39m\"\u001b[39m]\n\u001b[0;32m      <a href='vscode-notebook-cell:/c%3A/Users/Marek/Documents/dev/WebApp/data_selection.ipynb#ch0000002?line=3'>4</a>\u001b[0m data_band_19 \u001b[39m=\u001b[39m thursday_only[thursday_only[\u001b[39m\"\u001b[39m\u001b[39mALIAS\u001b[39m\u001b[39m\"\u001b[39m] \u001b[39m==\u001b[39m \u001b[39m\"\u001b[39m\u001b[39mBand 23\u001b[39m\u001b[39m\"\u001b[39m]\n",
      "\u001b[1;31mAttributeError\u001b[0m: 'Timestamp' object has no attribute 'dt'"
     ]
    }
   ],
   "source": [
    "new_df = df.copy()\n",
    "new_df[\"DAY\"] = [x.tz_localize(\"CET\").dt.day_name for x in pd.to_datetime(new_df[\"TIMESTAMP\"], unit=\"s\")]\n",
    "thursday_only = new_df[new_df[\"DAY\"] == \"Thursday\"]\n",
    "data_band_19 = thursday_only[thursday_only[\"ALIAS\"] == \"Band 23\"]\n",
    "data_band_19\n"
   ]
  }
 ],
 "metadata": {
  "interpreter": {
   "hash": "72775477fe3c9471ee6637e514399f4196ca5ff7f2d39f88410ca416417568a3"
  },
  "kernelspec": {
   "display_name": "Python 3.10.4 ('venv': venv)",
   "language": "python",
   "name": "python3"
  },
  "language_info": {
   "codemirror_mode": {
    "name": "ipython",
    "version": 3
   },
   "file_extension": ".py",
   "mimetype": "text/x-python",
   "name": "python",
   "nbconvert_exporter": "python",
   "pygments_lexer": "ipython3",
   "version": "3.10.4"
  },
  "orig_nbformat": 4
 },
 "nbformat": 4,
 "nbformat_minor": 2
}
