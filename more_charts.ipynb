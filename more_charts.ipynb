{
 "cells": [
  {
   "cell_type": "code",
   "execution_count": 1,
   "metadata": {},
   "outputs": [],
   "source": [
    "import pandas as pd\n",
    "import numpy as np\n",
    "import plotly.express as px\n",
    "import datetime as dt"
   ]
  },
  {
   "cell_type": "code",
   "execution_count": 2,
   "metadata": {},
   "outputs": [],
   "source": [
    "merged_all = pd.read_feather(\"data/dfs/data_merged_all.feather\")\n",
    "kind_codes = {\"Running\": [98, 50, 66, 82],\n",
    "              \"Walking\": [1, 16, 17, 33, 49, 18, 34, 65],\n",
    "              \"Light_Sleep\": [112],\n",
    "              \"Heavy_Sleep\": [122],\n",
    "              \"Sit\": [80, 96, 99],\n",
    "              \"Standing\": [96],\n",
    "              \"SedentaryInLast5Minutes\": [90],\n",
    "              \"NotWorn\": [3],\n",
    "              \"NotWorn_Charging\": [6],\n",
    "              \"NotWorn_FaceUp\": [83],\n",
    "              \"NotWorn_FaceDown\": [115]}\n"
   ]
  },
  {
   "cell_type": "code",
   "execution_count": 3,
   "metadata": {},
   "outputs": [],
   "source": [
    "def generate_piechart(file,stu)\n",
    "    merged_all = \n",
    "    new_kind_codes = {}\n",
    "    for key in kind_codes.keys():\n",
    "        arr = kind_codes[key]\n",
    "        for code in arr:\n",
    "            new_kind_codes[code] = key\n",
    "    merged_all = merged_all[merged_all[\"ALIAS\"] == stu]\n",
    "    merged_all[\"KIND\"] = merged_all[\"RAW_KIND\"].map(\n",
    "        lambda x: new_kind_codes.get(x))\n",
    "    sleep_df = merged_all.loc[(merged_all[\"KIND\"] == \"Heavy_Sleep\") | (\n",
    "        merged_all[\"KIND\"] == \"Light_Sleep\")]\n",
    "    sleep_df = merged_all.copy().loc[(merged_all[\"KIND\"] == \"Heavy_Sleep\") | (\n",
    "        merged_all[\"KIND\"] == \"Light_Sleep\")]\n",
    "    sleep_df[\"HOURLY\"] = sleep_df[\"DATETIME_CET\"].dt.time\n",
    "    sleep_df_alt = sleep_df[np.logical_or(\n",
    "        sleep_df[\"HOURLY\"] >= dt.time(20, 0), sleep_df[\"HOURLY\"] < dt.time(8, 0))]\n",
    "    thing = sleep_df_alt.groupby(by=\"KIND\").count()\n",
    "    thing.reset_index(inplace=True)\n",
    "    fig = px.pie(thing, names=\"KIND\", values=\"Weight\", title=\"Sleep quality\")\n",
    "    return fig\n"
   ]
  },
  {
   "cell_type": "code",
   "execution_count": 5,
   "metadata": {},
   "outputs": [
    {
     "data": {
      "application/vnd.plotly.v1+json": {
       "config": {
        "plotlyServerURL": "https://plot.ly"
       },
       "data": [
        {
         "domain": {
          "x": [
           0,
           1
          ],
          "y": [
           0,
           1
          ]
         },
         "hovertemplate": "KIND=%{label}<br>Weight=%{value}<extra></extra>",
         "labels": [
          "Heavy_Sleep",
          "Light_Sleep"
         ],
         "legendgroup": "",
         "name": "",
         "showlegend": true,
         "type": "pie",
         "values": [
          306,
          4620
         ]
        }
       ],
       "layout": {
        "legend": {
         "tracegroupgap": 0
        },
        "template": {
         "data": {
          "bar": [
           {
            "error_x": {
             "color": "#2a3f5f"
            },
            "error_y": {
             "color": "#2a3f5f"
            },
            "marker": {
             "line": {
              "color": "#E5ECF6",
              "width": 0.5
             },
             "pattern": {
              "fillmode": "overlay",
              "size": 10,
              "solidity": 0.2
             }
            },
            "type": "bar"
           }
          ],
          "barpolar": [
           {
            "marker": {
             "line": {
              "color": "#E5ECF6",
              "width": 0.5
             },
             "pattern": {
              "fillmode": "overlay",
              "size": 10,
              "solidity": 0.2
             }
            },
            "type": "barpolar"
           }
          ],
          "carpet": [
           {
            "aaxis": {
             "endlinecolor": "#2a3f5f",
             "gridcolor": "white",
             "linecolor": "white",
             "minorgridcolor": "white",
             "startlinecolor": "#2a3f5f"
            },
            "baxis": {
             "endlinecolor": "#2a3f5f",
             "gridcolor": "white",
             "linecolor": "white",
             "minorgridcolor": "white",
             "startlinecolor": "#2a3f5f"
            },
            "type": "carpet"
           }
          ],
          "choropleth": [
           {
            "colorbar": {
             "outlinewidth": 0,
             "ticks": ""
            },
            "type": "choropleth"
           }
          ],
          "contour": [
           {
            "colorbar": {
             "outlinewidth": 0,
             "ticks": ""
            },
            "colorscale": [
             [
              0,
              "#0d0887"
             ],
             [
              0.1111111111111111,
              "#46039f"
             ],
             [
              0.2222222222222222,
              "#7201a8"
             ],
             [
              0.3333333333333333,
              "#9c179e"
             ],
             [
              0.4444444444444444,
              "#bd3786"
             ],
             [
              0.5555555555555556,
              "#d8576b"
             ],
             [
              0.6666666666666666,
              "#ed7953"
             ],
             [
              0.7777777777777778,
              "#fb9f3a"
             ],
             [
              0.8888888888888888,
              "#fdca26"
             ],
             [
              1,
              "#f0f921"
             ]
            ],
            "type": "contour"
           }
          ],
          "contourcarpet": [
           {
            "colorbar": {
             "outlinewidth": 0,
             "ticks": ""
            },
            "type": "contourcarpet"
           }
          ],
          "heatmap": [
           {
            "colorbar": {
             "outlinewidth": 0,
             "ticks": ""
            },
            "colorscale": [
             [
              0,
              "#0d0887"
             ],
             [
              0.1111111111111111,
              "#46039f"
             ],
             [
              0.2222222222222222,
              "#7201a8"
             ],
             [
              0.3333333333333333,
              "#9c179e"
             ],
             [
              0.4444444444444444,
              "#bd3786"
             ],
             [
              0.5555555555555556,
              "#d8576b"
             ],
             [
              0.6666666666666666,
              "#ed7953"
             ],
             [
              0.7777777777777778,
              "#fb9f3a"
             ],
             [
              0.8888888888888888,
              "#fdca26"
             ],
             [
              1,
              "#f0f921"
             ]
            ],
            "type": "heatmap"
           }
          ],
          "heatmapgl": [
           {
            "colorbar": {
             "outlinewidth": 0,
             "ticks": ""
            },
            "colorscale": [
             [
              0,
              "#0d0887"
             ],
             [
              0.1111111111111111,
              "#46039f"
             ],
             [
              0.2222222222222222,
              "#7201a8"
             ],
             [
              0.3333333333333333,
              "#9c179e"
             ],
             [
              0.4444444444444444,
              "#bd3786"
             ],
             [
              0.5555555555555556,
              "#d8576b"
             ],
             [
              0.6666666666666666,
              "#ed7953"
             ],
             [
              0.7777777777777778,
              "#fb9f3a"
             ],
             [
              0.8888888888888888,
              "#fdca26"
             ],
             [
              1,
              "#f0f921"
             ]
            ],
            "type": "heatmapgl"
           }
          ],
          "histogram": [
           {
            "marker": {
             "pattern": {
              "fillmode": "overlay",
              "size": 10,
              "solidity": 0.2
             }
            },
            "type": "histogram"
           }
          ],
          "histogram2d": [
           {
            "colorbar": {
             "outlinewidth": 0,
             "ticks": ""
            },
            "colorscale": [
             [
              0,
              "#0d0887"
             ],
             [
              0.1111111111111111,
              "#46039f"
             ],
             [
              0.2222222222222222,
              "#7201a8"
             ],
             [
              0.3333333333333333,
              "#9c179e"
             ],
             [
              0.4444444444444444,
              "#bd3786"
             ],
             [
              0.5555555555555556,
              "#d8576b"
             ],
             [
              0.6666666666666666,
              "#ed7953"
             ],
             [
              0.7777777777777778,
              "#fb9f3a"
             ],
             [
              0.8888888888888888,
              "#fdca26"
             ],
             [
              1,
              "#f0f921"
             ]
            ],
            "type": "histogram2d"
           }
          ],
          "histogram2dcontour": [
           {
            "colorbar": {
             "outlinewidth": 0,
             "ticks": ""
            },
            "colorscale": [
             [
              0,
              "#0d0887"
             ],
             [
              0.1111111111111111,
              "#46039f"
             ],
             [
              0.2222222222222222,
              "#7201a8"
             ],
             [
              0.3333333333333333,
              "#9c179e"
             ],
             [
              0.4444444444444444,
              "#bd3786"
             ],
             [
              0.5555555555555556,
              "#d8576b"
             ],
             [
              0.6666666666666666,
              "#ed7953"
             ],
             [
              0.7777777777777778,
              "#fb9f3a"
             ],
             [
              0.8888888888888888,
              "#fdca26"
             ],
             [
              1,
              "#f0f921"
             ]
            ],
            "type": "histogram2dcontour"
           }
          ],
          "mesh3d": [
           {
            "colorbar": {
             "outlinewidth": 0,
             "ticks": ""
            },
            "type": "mesh3d"
           }
          ],
          "parcoords": [
           {
            "line": {
             "colorbar": {
              "outlinewidth": 0,
              "ticks": ""
             }
            },
            "type": "parcoords"
           }
          ],
          "pie": [
           {
            "automargin": true,
            "type": "pie"
           }
          ],
          "scatter": [
           {
            "fillpattern": {
             "fillmode": "overlay",
             "size": 10,
             "solidity": 0.2
            },
            "type": "scatter"
           }
          ],
          "scatter3d": [
           {
            "line": {
             "colorbar": {
              "outlinewidth": 0,
              "ticks": ""
             }
            },
            "marker": {
             "colorbar": {
              "outlinewidth": 0,
              "ticks": ""
             }
            },
            "type": "scatter3d"
           }
          ],
          "scattercarpet": [
           {
            "marker": {
             "colorbar": {
              "outlinewidth": 0,
              "ticks": ""
             }
            },
            "type": "scattercarpet"
           }
          ],
          "scattergeo": [
           {
            "marker": {
             "colorbar": {
              "outlinewidth": 0,
              "ticks": ""
             }
            },
            "type": "scattergeo"
           }
          ],
          "scattergl": [
           {
            "marker": {
             "colorbar": {
              "outlinewidth": 0,
              "ticks": ""
             }
            },
            "type": "scattergl"
           }
          ],
          "scattermapbox": [
           {
            "marker": {
             "colorbar": {
              "outlinewidth": 0,
              "ticks": ""
             }
            },
            "type": "scattermapbox"
           }
          ],
          "scatterpolar": [
           {
            "marker": {
             "colorbar": {
              "outlinewidth": 0,
              "ticks": ""
             }
            },
            "type": "scatterpolar"
           }
          ],
          "scatterpolargl": [
           {
            "marker": {
             "colorbar": {
              "outlinewidth": 0,
              "ticks": ""
             }
            },
            "type": "scatterpolargl"
           }
          ],
          "scatterternary": [
           {
            "marker": {
             "colorbar": {
              "outlinewidth": 0,
              "ticks": ""
             }
            },
            "type": "scatterternary"
           }
          ],
          "surface": [
           {
            "colorbar": {
             "outlinewidth": 0,
             "ticks": ""
            },
            "colorscale": [
             [
              0,
              "#0d0887"
             ],
             [
              0.1111111111111111,
              "#46039f"
             ],
             [
              0.2222222222222222,
              "#7201a8"
             ],
             [
              0.3333333333333333,
              "#9c179e"
             ],
             [
              0.4444444444444444,
              "#bd3786"
             ],
             [
              0.5555555555555556,
              "#d8576b"
             ],
             [
              0.6666666666666666,
              "#ed7953"
             ],
             [
              0.7777777777777778,
              "#fb9f3a"
             ],
             [
              0.8888888888888888,
              "#fdca26"
             ],
             [
              1,
              "#f0f921"
             ]
            ],
            "type": "surface"
           }
          ],
          "table": [
           {
            "cells": {
             "fill": {
              "color": "#EBF0F8"
             },
             "line": {
              "color": "white"
             }
            },
            "header": {
             "fill": {
              "color": "#C8D4E3"
             },
             "line": {
              "color": "white"
             }
            },
            "type": "table"
           }
          ]
         },
         "layout": {
          "annotationdefaults": {
           "arrowcolor": "#2a3f5f",
           "arrowhead": 0,
           "arrowwidth": 1
          },
          "autotypenumbers": "strict",
          "coloraxis": {
           "colorbar": {
            "outlinewidth": 0,
            "ticks": ""
           }
          },
          "colorscale": {
           "diverging": [
            [
             0,
             "#8e0152"
            ],
            [
             0.1,
             "#c51b7d"
            ],
            [
             0.2,
             "#de77ae"
            ],
            [
             0.3,
             "#f1b6da"
            ],
            [
             0.4,
             "#fde0ef"
            ],
            [
             0.5,
             "#f7f7f7"
            ],
            [
             0.6,
             "#e6f5d0"
            ],
            [
             0.7,
             "#b8e186"
            ],
            [
             0.8,
             "#7fbc41"
            ],
            [
             0.9,
             "#4d9221"
            ],
            [
             1,
             "#276419"
            ]
           ],
           "sequential": [
            [
             0,
             "#0d0887"
            ],
            [
             0.1111111111111111,
             "#46039f"
            ],
            [
             0.2222222222222222,
             "#7201a8"
            ],
            [
             0.3333333333333333,
             "#9c179e"
            ],
            [
             0.4444444444444444,
             "#bd3786"
            ],
            [
             0.5555555555555556,
             "#d8576b"
            ],
            [
             0.6666666666666666,
             "#ed7953"
            ],
            [
             0.7777777777777778,
             "#fb9f3a"
            ],
            [
             0.8888888888888888,
             "#fdca26"
            ],
            [
             1,
             "#f0f921"
            ]
           ],
           "sequentialminus": [
            [
             0,
             "#0d0887"
            ],
            [
             0.1111111111111111,
             "#46039f"
            ],
            [
             0.2222222222222222,
             "#7201a8"
            ],
            [
             0.3333333333333333,
             "#9c179e"
            ],
            [
             0.4444444444444444,
             "#bd3786"
            ],
            [
             0.5555555555555556,
             "#d8576b"
            ],
            [
             0.6666666666666666,
             "#ed7953"
            ],
            [
             0.7777777777777778,
             "#fb9f3a"
            ],
            [
             0.8888888888888888,
             "#fdca26"
            ],
            [
             1,
             "#f0f921"
            ]
           ]
          },
          "colorway": [
           "#636efa",
           "#EF553B",
           "#00cc96",
           "#ab63fa",
           "#FFA15A",
           "#19d3f3",
           "#FF6692",
           "#B6E880",
           "#FF97FF",
           "#FECB52"
          ],
          "font": {
           "color": "#2a3f5f"
          },
          "geo": {
           "bgcolor": "white",
           "lakecolor": "white",
           "landcolor": "#E5ECF6",
           "showlakes": true,
           "showland": true,
           "subunitcolor": "white"
          },
          "hoverlabel": {
           "align": "left"
          },
          "hovermode": "closest",
          "mapbox": {
           "style": "light"
          },
          "paper_bgcolor": "white",
          "plot_bgcolor": "#E5ECF6",
          "polar": {
           "angularaxis": {
            "gridcolor": "white",
            "linecolor": "white",
            "ticks": ""
           },
           "bgcolor": "#E5ECF6",
           "radialaxis": {
            "gridcolor": "white",
            "linecolor": "white",
            "ticks": ""
           }
          },
          "scene": {
           "xaxis": {
            "backgroundcolor": "#E5ECF6",
            "gridcolor": "white",
            "gridwidth": 2,
            "linecolor": "white",
            "showbackground": true,
            "ticks": "",
            "zerolinecolor": "white"
           },
           "yaxis": {
            "backgroundcolor": "#E5ECF6",
            "gridcolor": "white",
            "gridwidth": 2,
            "linecolor": "white",
            "showbackground": true,
            "ticks": "",
            "zerolinecolor": "white"
           },
           "zaxis": {
            "backgroundcolor": "#E5ECF6",
            "gridcolor": "white",
            "gridwidth": 2,
            "linecolor": "white",
            "showbackground": true,
            "ticks": "",
            "zerolinecolor": "white"
           }
          },
          "shapedefaults": {
           "line": {
            "color": "#2a3f5f"
           }
          },
          "ternary": {
           "aaxis": {
            "gridcolor": "white",
            "linecolor": "white",
            "ticks": ""
           },
           "baxis": {
            "gridcolor": "white",
            "linecolor": "white",
            "ticks": ""
           },
           "bgcolor": "#E5ECF6",
           "caxis": {
            "gridcolor": "white",
            "linecolor": "white",
            "ticks": ""
           }
          },
          "title": {
           "x": 0.05
          },
          "xaxis": {
           "automargin": true,
           "gridcolor": "white",
           "linecolor": "white",
           "ticks": "",
           "title": {
            "standoff": 15
           },
           "zerolinecolor": "white",
           "zerolinewidth": 2
          },
          "yaxis": {
           "automargin": true,
           "gridcolor": "white",
           "linecolor": "white",
           "ticks": "",
           "title": {
            "standoff": 15
           },
           "zerolinecolor": "white",
           "zerolinewidth": 2
          }
         }
        },
        "title": {
         "text": "Sleep quality"
        }
       }
      }
     },
     "metadata": {},
     "output_type": "display_data"
    },
    {
     "data": {
      "text/html": [
       "<div>\n",
       "<style scoped>\n",
       "    .dataframe tbody tr th:only-of-type {\n",
       "        vertical-align: middle;\n",
       "    }\n",
       "\n",
       "    .dataframe tbody tr th {\n",
       "        vertical-align: top;\n",
       "    }\n",
       "\n",
       "    .dataframe thead th {\n",
       "        text-align: right;\n",
       "    }\n",
       "</style>\n",
       "<table border=\"1\" class=\"dataframe\">\n",
       "  <thead>\n",
       "    <tr style=\"text-align: right;\">\n",
       "      <th></th>\n",
       "      <th>RAW_INTENSITY</th>\n",
       "      <th>STEPS</th>\n",
       "      <th>RAW_KIND</th>\n",
       "      <th>HEART_RATE</th>\n",
       "      <th>ALIAS</th>\n",
       "      <th>YoB</th>\n",
       "      <th>Sex</th>\n",
       "      <th>Height</th>\n",
       "      <th>Weight</th>\n",
       "      <th>DomHand</th>\n",
       "      <th>BandAtNight</th>\n",
       "      <th>DATETIME_CET</th>\n",
       "      <th>WEEK_DAY</th>\n",
       "      <th>WEEKEND</th>\n",
       "      <th>SUBJECT</th>\n",
       "      <th>BREAK</th>\n",
       "      <th>SCHOOL</th>\n",
       "      <th>KIND</th>\n",
       "      <th>HOURLY</th>\n",
       "    </tr>\n",
       "  </thead>\n",
       "  <tbody>\n",
       "    <tr>\n",
       "      <th>247986</th>\n",
       "      <td>22.0</td>\n",
       "      <td>0.0</td>\n",
       "      <td>112.0</td>\n",
       "      <td>255.0</td>\n",
       "      <td>Band 06</td>\n",
       "      <td>2012</td>\n",
       "      <td>Žena</td>\n",
       "      <td>136</td>\n",
       "      <td>33.0</td>\n",
       "      <td>Pravoruký</td>\n",
       "      <td>Ano</td>\n",
       "      <td>2021-05-10 06:21:00+02:00</td>\n",
       "      <td>Monday</td>\n",
       "      <td>False</td>\n",
       "      <td>N/A</td>\n",
       "      <td>False</td>\n",
       "      <td>False</td>\n",
       "      <td>Light_Sleep</td>\n",
       "      <td>06:21:00</td>\n",
       "    </tr>\n",
       "    <tr>\n",
       "      <th>247987</th>\n",
       "      <td>0.0</td>\n",
       "      <td>0.0</td>\n",
       "      <td>112.0</td>\n",
       "      <td>81.0</td>\n",
       "      <td>Band 06</td>\n",
       "      <td>2012</td>\n",
       "      <td>Žena</td>\n",
       "      <td>136</td>\n",
       "      <td>33.0</td>\n",
       "      <td>Pravoruký</td>\n",
       "      <td>Ano</td>\n",
       "      <td>2021-05-10 06:22:00+02:00</td>\n",
       "      <td>Monday</td>\n",
       "      <td>False</td>\n",
       "      <td>N/A</td>\n",
       "      <td>False</td>\n",
       "      <td>False</td>\n",
       "      <td>Light_Sleep</td>\n",
       "      <td>06:22:00</td>\n",
       "    </tr>\n",
       "    <tr>\n",
       "      <th>247988</th>\n",
       "      <td>0.0</td>\n",
       "      <td>0.0</td>\n",
       "      <td>112.0</td>\n",
       "      <td>255.0</td>\n",
       "      <td>Band 06</td>\n",
       "      <td>2012</td>\n",
       "      <td>Žena</td>\n",
       "      <td>136</td>\n",
       "      <td>33.0</td>\n",
       "      <td>Pravoruký</td>\n",
       "      <td>Ano</td>\n",
       "      <td>2021-05-10 06:23:00+02:00</td>\n",
       "      <td>Monday</td>\n",
       "      <td>False</td>\n",
       "      <td>N/A</td>\n",
       "      <td>False</td>\n",
       "      <td>False</td>\n",
       "      <td>Light_Sleep</td>\n",
       "      <td>06:23:00</td>\n",
       "    </tr>\n",
       "    <tr>\n",
       "      <th>247989</th>\n",
       "      <td>3.0</td>\n",
       "      <td>0.0</td>\n",
       "      <td>112.0</td>\n",
       "      <td>255.0</td>\n",
       "      <td>Band 06</td>\n",
       "      <td>2012</td>\n",
       "      <td>Žena</td>\n",
       "      <td>136</td>\n",
       "      <td>33.0</td>\n",
       "      <td>Pravoruký</td>\n",
       "      <td>Ano</td>\n",
       "      <td>2021-05-10 06:24:00+02:00</td>\n",
       "      <td>Monday</td>\n",
       "      <td>False</td>\n",
       "      <td>N/A</td>\n",
       "      <td>False</td>\n",
       "      <td>False</td>\n",
       "      <td>Light_Sleep</td>\n",
       "      <td>06:24:00</td>\n",
       "    </tr>\n",
       "    <tr>\n",
       "      <th>248916</th>\n",
       "      <td>42.0</td>\n",
       "      <td>0.0</td>\n",
       "      <td>112.0</td>\n",
       "      <td>255.0</td>\n",
       "      <td>Band 06</td>\n",
       "      <td>2012</td>\n",
       "      <td>Žena</td>\n",
       "      <td>136</td>\n",
       "      <td>33.0</td>\n",
       "      <td>Pravoruký</td>\n",
       "      <td>Ano</td>\n",
       "      <td>2021-05-10 21:51:00+02:00</td>\n",
       "      <td>Monday</td>\n",
       "      <td>False</td>\n",
       "      <td>N/A</td>\n",
       "      <td>False</td>\n",
       "      <td>False</td>\n",
       "      <td>Light_Sleep</td>\n",
       "      <td>21:51:00</td>\n",
       "    </tr>\n",
       "  </tbody>\n",
       "</table>\n",
       "</div>"
      ],
      "text/plain": [
       "        RAW_INTENSITY  STEPS  RAW_KIND  HEART_RATE    ALIAS   YoB   Sex  \\\n",
       "247986           22.0    0.0     112.0       255.0  Band 06  2012  Žena   \n",
       "247987            0.0    0.0     112.0        81.0  Band 06  2012  Žena   \n",
       "247988            0.0    0.0     112.0       255.0  Band 06  2012  Žena   \n",
       "247989            3.0    0.0     112.0       255.0  Band 06  2012  Žena   \n",
       "248916           42.0    0.0     112.0       255.0  Band 06  2012  Žena   \n",
       "\n",
       "        Height  Weight    DomHand BandAtNight              DATETIME_CET  \\\n",
       "247986     136    33.0  Pravoruký         Ano 2021-05-10 06:21:00+02:00   \n",
       "247987     136    33.0  Pravoruký         Ano 2021-05-10 06:22:00+02:00   \n",
       "247988     136    33.0  Pravoruký         Ano 2021-05-10 06:23:00+02:00   \n",
       "247989     136    33.0  Pravoruký         Ano 2021-05-10 06:24:00+02:00   \n",
       "248916     136    33.0  Pravoruký         Ano 2021-05-10 21:51:00+02:00   \n",
       "\n",
       "       WEEK_DAY  WEEKEND SUBJECT  BREAK  SCHOOL         KIND    HOURLY  \n",
       "247986   Monday    False     N/A  False   False  Light_Sleep  06:21:00  \n",
       "247987   Monday    False     N/A  False   False  Light_Sleep  06:22:00  \n",
       "247988   Monday    False     N/A  False   False  Light_Sleep  06:23:00  \n",
       "247989   Monday    False     N/A  False   False  Light_Sleep  06:24:00  \n",
       "248916   Monday    False     N/A  False   False  Light_Sleep  21:51:00  "
      ]
     },
     "execution_count": 5,
     "metadata": {},
     "output_type": "execute_result"
    }
   ],
   "source": [
    "#light_sleep_sum = sleep_df_alt[sleep_df_alt[\"KIND\"] == \"Light_Sleep\"]\n",
    "#heavy_sleep_sum = sleep_df_alt[sleep_df_alt[\"KIND\"] == \"Heavy_Sleep\"]\n"
   ]
  }
 ],
 "metadata": {
  "interpreter": {
   "hash": "72775477fe3c9471ee6637e514399f4196ca5ff7f2d39f88410ca416417568a3"
  },
  "kernelspec": {
   "display_name": "Python 3.10.4 ('venv': venv)",
   "language": "python",
   "name": "python3"
  },
  "language_info": {
   "codemirror_mode": {
    "name": "ipython",
    "version": 3
   },
   "file_extension": ".py",
   "mimetype": "text/x-python",
   "name": "python",
   "nbconvert_exporter": "python",
   "pygments_lexer": "ipython3",
   "version": "3.10.4"
  },
  "orig_nbformat": 4
 },
 "nbformat": 4,
 "nbformat_minor": 2
}
